{
 "cells": [
  {
   "cell_type": "code",
   "execution_count": 1,
   "id": "6e565619",
   "metadata": {
    "scrolled": true
   },
   "outputs": [],
   "source": [
    "import pandas\n",
    "import importlib\n",
    "import sys\n",
    "import os\n",
    "os.chdir('C:\\\\Users\\\\james\\\\PycharmProjects\\\\compcaplux')\n",
    "import lux\n",
    "df=pandas.read_csv('C:\\\\Users\\\\james\\\\PycharmProjects\\\\compcaplux\\\\lux\\\\data\\\\college.csv')"
   ]
  },
  {
   "cell_type": "code",
   "execution_count": 2,
   "id": "de55f109",
   "metadata": {},
   "outputs": [],
   "source": [
    "df.intent=[lux.Clause(attribute=\"SATAverage\",filter_op=\">\",value=30)]"
   ]
  },
  {
   "cell_type": "code",
   "execution_count": 3,
   "id": "925cadc5",
   "metadata": {},
   "outputs": [
    {
     "data": {
      "application/vnd.jupyter.widget-view+json": {
       "model_id": "18f01e19e1a046ecb161df549e3d6537",
       "version_major": 2,
       "version_minor": 0
      },
      "text/plain": [
       "Button(description='Toggle Pandas/Lux', layout=Layout(top='5px', width='140px'), style=ButtonStyle())"
      ]
     },
     "metadata": {},
     "output_type": "display_data"
    },
    {
     "data": {
      "application/vnd.jupyter.widget-view+json": {
       "model_id": "f7683986177e4548bfd134d584f9d711",
       "version_major": 2,
       "version_minor": 0
      },
      "text/plain": [
       "Output()"
      ]
     },
     "metadata": {},
     "output_type": "display_data"
    }
   ],
   "source": [
    "df"
   ]
  },
  {
   "cell_type": "code",
   "execution_count": 6,
   "id": "4dd02566",
   "metadata": {},
   "outputs": [],
   "source": [
    "df.intent=[\"AverageCost>10\"]"
   ]
  },
  {
   "cell_type": "code",
   "execution_count": 7,
   "id": "716af195",
   "metadata": {},
   "outputs": [
    {
     "data": {
      "application/vnd.jupyter.widget-view+json": {
       "model_id": "96cda5755a1046eda643909ef5b5af3d",
       "version_major": 2,
       "version_minor": 0
      },
      "text/plain": [
       "Button(description='Toggle Pandas/Lux', layout=Layout(top='5px', width='140px'), style=ButtonStyle())"
      ]
     },
     "metadata": {},
     "output_type": "display_data"
    },
    {
     "data": {
      "application/vnd.jupyter.widget-view+json": {
       "model_id": "0a9f26a2de8a4e1cbd76c5689895c75e",
       "version_major": 2,
       "version_minor": 0
      },
      "text/plain": [
       "Output()"
      ]
     },
     "metadata": {},
     "output_type": "display_data"
    }
   ],
   "source": [
    "df"
   ]
  },
  {
   "cell_type": "code",
   "execution_count": 8,
   "id": "f651bc96",
   "metadata": {},
   "outputs": [],
   "source": [
    "df.intent=\"AverageCost>10\""
   ]
  },
  {
   "cell_type": "code",
   "execution_count": 9,
   "id": "a0b0311d",
   "metadata": {},
   "outputs": [
    {
     "data": {
      "application/vnd.jupyter.widget-view+json": {
       "model_id": "2cf7a37826694725acfbcc6010ff5138",
       "version_major": 2,
       "version_minor": 0
      },
      "text/plain": [
       "Button(description='Toggle Pandas/Lux', layout=Layout(top='5px', width='140px'), style=ButtonStyle())"
      ]
     },
     "metadata": {},
     "output_type": "display_data"
    },
    {
     "data": {
      "application/vnd.jupyter.widget-view+json": {
       "model_id": "f49cc2808ef44229bd74b95b2f4192df",
       "version_major": 2,
       "version_minor": 0
      },
      "text/plain": [
       "Output()"
      ]
     },
     "metadata": {},
     "output_type": "display_data"
    }
   ],
   "source": [
    "df"
   ]
  },
  {
   "cell_type": "code",
   "execution_count": null,
   "id": "35aa16b5",
   "metadata": {},
   "outputs": [],
   "source": []
  }
 ],
 "metadata": {
  "kernelspec": {
   "display_name": "Python 3",
   "language": "python",
   "name": "python3"
  },
  "language_info": {
   "codemirror_mode": {
    "name": "ipython",
    "version": 3
   },
   "file_extension": ".py",
   "mimetype": "text/x-python",
   "name": "python",
   "nbconvert_exporter": "python",
   "pygments_lexer": "ipython3",
   "version": "3.9.1"
  }
 },
 "nbformat": 4,
 "nbformat_minor": 5
}
